{
 "cells": [
  {
   "cell_type": "markdown",
   "metadata": {},
   "source": [
    "# Autometa hyrbid O.O.P. and Functional Approach\n",
    "\n",
    "Many different approaches have been outlined in the NSF Career Proposal. These involve updates/new algorithms for:\n",
    "\n",
    "- taxonomic assignment\n",
    "- binning methods\n",
    "- pangenome binning\n",
    "- ..."
   ]
  },
  {
   "cell_type": "code",
   "execution_count": 3,
   "metadata": {},
   "outputs": [
    {
     "name": "stdout",
     "output_type": "stream",
     "text": [
      "current directory /Users/patron/autometa\n",
      "directory contents:\n",
      "__init__.py     \u001b[34mconfig\u001b[m\u001b[m          dependencies.py project.py      user.py\n",
      "\u001b[34m__pycache__\u001b[m\u001b[m     dataset.py      mag.py          taxonomy.py\n"
     ]
    }
   ],
   "source": [
    "# Current location\n",
    "!echo \"current directory $(pwd)\"\n",
    "!echo \"directory contents:\"\n",
    "!ls autometa"
   ]
  },
  {
   "cell_type": "markdown",
   "metadata": {},
   "source": [
    "# Configuration \n",
    "\n",
    "## Checking databases and dependencies all in one place.\n",
    "\n",
    "A config file is used containing relevant database information that may easily be inspected, extended dependending on future development. i.e. using multiple marker sets or automatically retrieving database files required that the user has not already downloaded/formatted."
   ]
  },
  {
   "cell_type": "code",
   "execution_count": 5,
   "metadata": {},
   "outputs": [
    {
     "name": "stdout",
     "output_type": "stream",
     "text": [
      "[common]\r\n",
      "home_dir = /Users/patron/autometa\r\n",
      "db_dir = ${common:home_dir}/databases\r\n",
      "ncbi_dir = ${common:db_dir}/ncbi\r\n",
      "markers_dir = ${common:db_dir}/markers\r\n",
      "\r\n",
      "[database_urls]\r\n",
      "taxdump = ftp://ftp.ncbi.nlm.nih.gov/pub/taxonomy/taxdump.tar.gz\r\n",
      "accession2taxid = ftp://ftp.ncbi.nih.gov/pub/taxonomy/accession2taxid/prot.accession2taxid.gz\r\n",
      "nr = ftp://ftp.ncbi.nlm.nih.gov/blast/db/FASTA/nr.gz\r\n",
      "\r\n",
      "[checksums]\r\n",
      "acc2taxid = ftp://ftp.ncbi.nih.gov/pub/taxonomy/accession2taxid/prot.accession2taxid.gz.md5\r\n",
      "taxdump = ftp://ftp.ncbi.nlm.nih.gov/pub/taxonomy/taxdump.tar.gz.md5\r\n",
      "\r\n",
      "[ncbi]\r\n",
      "names = ${common:ncbi_dir}/names.dmp\r\n",
      "nodes = ${common:ncbi_dir}/nodes.dmp\r\n",
      "accession2taxid = ${common:ncbi_dir}/prot.accession2taxid.gz\r\n",
      "blastdb = ${common:ncbi_dir}/nr.dmnd\r\n",
      "\r\n",
      "[markers]\r\n",
      "# Marker sets should be in the format of kingdom.marker_set_name.[cutoffs,hmm]\r\n",
      "bacteria_single_copy = ${common:markers_dir}/bacteria.single_copy.hmm\r\n",
      "bacteria_single_copy_cutoffs = ${common:markers_dir}/bacteria.single_copy.cutoffs\r\n",
      "archaea_single_copy = ${common:markers_dir}/archaea.single_copy.hmm\r\n",
      "archaea_single_copy_cutoffs = ${common:markers_dir}/archaea.single_copy.cutoffs\r\n"
     ]
    }
   ],
   "source": [
    "!cat autometa/config/default.cfg"
   ]
  },
  {
   "cell_type": "markdown",
   "metadata": {},
   "source": [
    "### Example of using the Autometa Dependencies class\n",
    "\n",
    "1. Checking all executables are available\n",
    "2. Checking paths to required database files"
   ]
  },
  {
   "cell_type": "code",
   "execution_count": 7,
   "metadata": {},
   "outputs": [
    {
     "name": "stdout",
     "output_type": "stream",
     "text": [
      "diamond\t\t: /Users/patron/anaconda3/envs/autometa/bin/diamond\n",
      "hmmsearch\t\t: /Users/patron/anaconda3/envs/autometa/bin/hmmsearch\n",
      "hmmpress\t\t: /Users/patron/anaconda3/envs/autometa/bin/hmmpress\n",
      "hmmscan\t\t: /Users/patron/anaconda3/envs/autometa/bin/hmmscan\n",
      "prodigal\t\t: /Users/patron/anaconda3/envs/autometa/bin/prodigal\n",
      "bowtie2\t\t: /Users/patron/anaconda3/envs/autometa/bin/bowtie2\n",
      "Executable Dependencies Satisfied\n",
      "Database Dependencies Satisfied\n"
     ]
    }
   ],
   "source": [
    "from autometa import dependencies\n",
    "dependencies.check_executables(verbose=True)\n",
    "# Can also easily track/debug using verbose arg\n",
    "config = dependencies.load_databases('autometa/config/default.cfg')"
   ]
  },
  {
   "cell_type": "code",
   "execution_count": 8,
   "metadata": {},
   "outputs": [
    {
     "data": {
      "text/plain": [
       "'/Users/patron/autometa/databases/ncbi/nr.dmnd'"
      ]
     },
     "execution_count": 8,
     "metadata": {},
     "output_type": "execute_result"
    }
   ],
   "source": [
    "config.get('ncbi','blastdb')"
   ]
  },
  {
   "cell_type": "markdown",
   "metadata": {},
   "source": [
    "### Displaying some functionality of the Autometa Dataset class\n",
    "\n",
    "#### Exploring a metagenome\n",
    "1. GC\n",
    "2. Coverage\n",
    "3. size\n",
    "4. number of sequences\n",
    "6. Writing to stdout\n",
    "5. etc.\n",
    "\n",
    "#### Annotating a metagenome\n",
    "1. kingdom specific\n",
    "2. applying a length filter\n",
    "3. Calling ORFs\n",
    "4. Finding Markers with specified marker sets"
   ]
  },
  {
   "cell_type": "code",
   "execution_count": 9,
   "metadata": {},
   "outputs": [],
   "source": [
    "from autometa.dataset import Dataset\n",
    "# Dataset"
   ]
  },
  {
   "cell_type": "code",
   "execution_count": 10,
   "metadata": {},
   "outputs": [],
   "source": [
    "Dataset?"
   ]
  },
  {
   "cell_type": "code",
   "execution_count": 11,
   "metadata": {},
   "outputs": [
    {
     "name": "stdout",
     "output_type": "stream",
     "text": [
      "Created output directory /Users/patron/autometa/demo\n"
     ]
    }
   ],
   "source": [
    "# Demo file\n",
    "assembly = 'test_data/demo.fasta'\n",
    "# Demo output directory\n",
    "output_folder = 'demo'\n",
    "\n",
    "# Initialize the autometa dataset\n",
    "autometa = Dataset(\n",
    "    dbconfig=config,\n",
    "    metagenome=assembly,\n",
    "    outdir=output_folder,\n",
    "    verbose=True,\n",
    "    force=True,\n",
    "    length_cutoff=3000,\n",
    ")"
   ]
  },
  {
   "cell_type": "code",
   "execution_count": 12,
   "metadata": {},
   "outputs": [
    {
     "data": {
      "text/plain": [
       "['__class__',\n",
       " '__delattr__',\n",
       " '__dict__',\n",
       " '__dir__',\n",
       " '__doc__',\n",
       " '__eq__',\n",
       " '__format__',\n",
       " '__ge__',\n",
       " '__getattribute__',\n",
       " '__gt__',\n",
       " '__hash__',\n",
       " '__init__',\n",
       " '__init_subclass__',\n",
       " '__le__',\n",
       " '__lt__',\n",
       " '__module__',\n",
       " '__ne__',\n",
       " '__new__',\n",
       " '__reduce__',\n",
       " '__reduce_ex__',\n",
       " '__repr__',\n",
       " '__setattr__',\n",
       " '__sizeof__',\n",
       " '__str__',\n",
       " '__subclasshook__',\n",
       " '__weakref__',\n",
       " '_config',\n",
       " '_coverage',\n",
       " '_force',\n",
       " '_is_filtered',\n",
       " '_kingdom',\n",
       " '_lca',\n",
       " '_length_cutoff',\n",
       " '_marker_set',\n",
       " '_metagenome',\n",
       " '_orfs',\n",
       " '_outdir',\n",
       " '_seqs',\n",
       " '_spades',\n",
       " '_verbose',\n",
       " 'call_orfs',\n",
       " 'coverage',\n",
       " 'cpus',\n",
       " 'cutoffs',\n",
       " 'fasta',\n",
       " 'filter_kingdom',\n",
       " 'filter_length',\n",
       " 'gc',\n",
       " 'get_coverage',\n",
       " 'get_gc_content',\n",
       " 'get_markers',\n",
       " 'hmms',\n",
       " 'hmmscan_fpath',\n",
       " 'is_filtered',\n",
       " 'kingdom',\n",
       " 'lca',\n",
       " 'lca_fpath',\n",
       " 'marker_set',\n",
       " 'markers',\n",
       " 'markers_fpath',\n",
       " 'master',\n",
       " 'master_fpath',\n",
       " 'metagenome',\n",
       " 'ncbi',\n",
       " 'norfs',\n",
       " 'nseqs',\n",
       " 'orfs',\n",
       " 'orfs_fpath',\n",
       " 'pipeline',\n",
       " 'prodigal_stdout',\n",
       " 'seqs',\n",
       " 'size',\n",
       " 'table',\n",
       " 'taxa',\n",
       " 'taxa_fpath',\n",
       " 'write_seqs']"
      ]
     },
     "execution_count": 12,
     "metadata": {},
     "output_type": "execute_result"
    }
   ],
   "source": [
    "dir(autometa)"
   ]
  },
  {
   "cell_type": "code",
   "execution_count": 13,
   "metadata": {},
   "outputs": [
    {
     "data": {
      "text/plain": [
       "1546"
      ]
     },
     "execution_count": 13,
     "metadata": {},
     "output_type": "execute_result"
    }
   ],
   "source": [
    "autometa.nseqs"
   ]
  },
  {
   "cell_type": "code",
   "execution_count": 14,
   "metadata": {},
   "outputs": [],
   "source": [
    "autometa.filter_length()"
   ]
  },
  {
   "cell_type": "code",
   "execution_count": 15,
   "metadata": {},
   "outputs": [
    {
     "data": {
      "text/plain": [
       "18"
      ]
     },
     "execution_count": 15,
     "metadata": {},
     "output_type": "execute_result"
    }
   ],
   "source": [
    "autometa.nseqs"
   ]
  },
  {
   "cell_type": "code",
   "execution_count": 16,
   "metadata": {},
   "outputs": [
    {
     "data": {
      "text/plain": [
       "{}"
      ]
     },
     "execution_count": 16,
     "metadata": {},
     "output_type": "execute_result"
    }
   ],
   "source": [
    "autometa.orfs"
   ]
  },
  {
   "cell_type": "code",
   "execution_count": 17,
   "metadata": {},
   "outputs": [
    {
     "name": "stdout",
     "output_type": "stream",
     "text": [
      "18 seqs written to /Users/patron/autometa/demo/demo.filtered\n",
      "RunningProdigal: prodigal -i /Users/patron/autometa/demo/demo.filtered -a /Users/patron/autometa/demo/demo.filtered.orfs.faa -p meta -m -q\n"
     ]
    }
   ],
   "source": [
    "autometa.call_orfs()"
   ]
  },
  {
   "cell_type": "code",
   "execution_count": 25,
   "metadata": {},
   "outputs": [
    {
     "data": {
      "text/plain": [
       "'bacteria'"
      ]
     },
     "execution_count": 25,
     "metadata": {},
     "output_type": "execute_result"
    }
   ],
   "source": [
    "autometa.kingdom"
   ]
  },
  {
   "cell_type": "code",
   "execution_count": 26,
   "metadata": {},
   "outputs": [
    {
     "data": {
      "text/plain": [
       "'/Users/patron/autometa/databases/markers/bacteria.single_copy.hmm'"
      ]
     },
     "execution_count": 26,
     "metadata": {},
     "output_type": "execute_result"
    }
   ],
   "source": [
    "autometa.hmms"
   ]
  },
  {
   "cell_type": "code",
   "execution_count": 27,
   "metadata": {},
   "outputs": [
    {
     "data": {
      "text/plain": [
       "'/Users/patron/autometa/databases/markers/bacteria.single_copy.cutoffs'"
      ]
     },
     "execution_count": 27,
     "metadata": {},
     "output_type": "execute_result"
    }
   ],
   "source": [
    "autometa.cutoffs"
   ]
  },
  {
   "cell_type": "code",
   "execution_count": 28,
   "metadata": {},
   "outputs": [],
   "source": [
    "autometa.kingdom = 'archaea'"
   ]
  },
  {
   "cell_type": "code",
   "execution_count": 29,
   "metadata": {},
   "outputs": [
    {
     "data": {
      "text/plain": [
       "'archaea'"
      ]
     },
     "execution_count": 29,
     "metadata": {},
     "output_type": "execute_result"
    }
   ],
   "source": [
    "autometa.kingdom"
   ]
  },
  {
   "cell_type": "code",
   "execution_count": 31,
   "metadata": {},
   "outputs": [
    {
     "name": "stdout",
     "output_type": "stream",
     "text": [
      "RunningHmmscan: hmmscan --cpu 1 --tblout /Users/patron/autometa/demo/demo.filtered.hmmscan /Users/patron/autometa/databases/markers/archaea.single_copy.hmm /Users/patron/autometa/demo/demo.filtered.orfs.faa\n",
      "RunningMakeMarkerTable: python /Users/patron/autometa/pipeline/make_marker_table.py --assembly /Users/patron/autometa/demo/demo.filtered --hmm /Users/patron/autometa/databases/markers/archaea.single_copy.hmm --cutoffs /Users/patron/autometa/databases/markers/archaea.single_copy.cutoffs --processors 1 --out /Users/patron/autometa/demo/demo.filtered.markers\n"
     ]
    }
   ],
   "source": [
    "autometa.get_markers()"
   ]
  },
  {
   "cell_type": "code",
   "execution_count": 34,
   "metadata": {},
   "outputs": [
    {
     "data": {
      "text/html": [
       "<div>\n",
       "<style scoped>\n",
       "    .dataframe tbody tr th:only-of-type {\n",
       "        vertical-align: middle;\n",
       "    }\n",
       "\n",
       "    .dataframe tbody tr th {\n",
       "        vertical-align: top;\n",
       "    }\n",
       "\n",
       "    .dataframe thead th {\n",
       "        text-align: right;\n",
       "    }\n",
       "</style>\n",
       "<table border=\"1\" class=\"dataframe\">\n",
       "  <thead>\n",
       "    <tr style=\"text-align: right;\">\n",
       "      <th></th>\n",
       "      <th>num_single_copies</th>\n",
       "    </tr>\n",
       "  </thead>\n",
       "  <tbody>\n",
       "    <tr>\n",
       "      <th>count</th>\n",
       "      <td>18.000000</td>\n",
       "    </tr>\n",
       "    <tr>\n",
       "      <th>mean</th>\n",
       "      <td>1.388889</td>\n",
       "    </tr>\n",
       "    <tr>\n",
       "      <th>std</th>\n",
       "      <td>4.230685</td>\n",
       "    </tr>\n",
       "    <tr>\n",
       "      <th>min</th>\n",
       "      <td>0.000000</td>\n",
       "    </tr>\n",
       "    <tr>\n",
       "      <th>25%</th>\n",
       "      <td>0.000000</td>\n",
       "    </tr>\n",
       "    <tr>\n",
       "      <th>50%</th>\n",
       "      <td>0.000000</td>\n",
       "    </tr>\n",
       "    <tr>\n",
       "      <th>75%</th>\n",
       "      <td>0.000000</td>\n",
       "    </tr>\n",
       "    <tr>\n",
       "      <th>max</th>\n",
       "      <td>17.000000</td>\n",
       "    </tr>\n",
       "  </tbody>\n",
       "</table>\n",
       "</div>"
      ],
      "text/plain": [
       "       num_single_copies\n",
       "count          18.000000\n",
       "mean            1.388889\n",
       "std             4.230685\n",
       "min             0.000000\n",
       "25%             0.000000\n",
       "50%             0.000000\n",
       "75%             0.000000\n",
       "max            17.000000"
      ]
     },
     "execution_count": 34,
     "metadata": {},
     "output_type": "execute_result"
    }
   ],
   "source": [
    "autometa.markers.describe()"
   ]
  },
  {
   "cell_type": "markdown",
   "metadata": {},
   "source": [
    "### Displaying some functionality of the Autometa TaxonUtils class\n",
    "\n",
    "1. Searching for homology\n",
    "2. Finding the LCA of taxids\n"
   ]
  },
  {
   "cell_type": "code",
   "execution_count": 35,
   "metadata": {
    "scrolled": true
   },
   "outputs": [
    {
     "name": "stderr",
     "output_type": "stream",
     "text": [
      "parsing nodes: 27953it [00:00, 279526.93it/s]"
     ]
    },
    {
     "name": "stdout",
     "output_type": "stream",
     "text": [
      "Processing nodes from /Users/patron/autometa/databases/ncbi/nodes.dmp\n"
     ]
    },
    {
     "name": "stderr",
     "output_type": "stream",
     "text": [
      "parsing names: 42408it [00:00, 424079.39it/s]  "
     ]
    },
    {
     "name": "stdout",
     "output_type": "stream",
     "text": [
      "nodes loaded\n",
      "Processing names from /Users/patron/autometa/databases/ncbi/names.dmp\n"
     ]
    },
    {
     "name": "stderr",
     "output_type": "stream",
     "text": [
      "                                               "
     ]
    },
    {
     "name": "stdout",
     "output_type": "stream",
     "text": [
      "names loaded\n"
     ]
    },
    {
     "name": "stderr",
     "output_type": "stream",
     "text": [
      "\r"
     ]
    }
   ],
   "source": [
    "from autometa.taxonomy import TaxonUtils\n",
    "taxutils = TaxonUtils(config, verbose=True)"
   ]
  },
  {
   "cell_type": "code",
   "execution_count": 36,
   "metadata": {},
   "outputs": [
    {
     "name": "stdout",
     "output_type": "stream",
     "text": [
      "Preparing data structures for LCA\n",
      "unpickling /Users/patron/autometa/databases/ncbi/tour.pkl\n",
      "/Users/patron/autometa/databases/ncbi/tour.pkl object unpickled\n",
      "unpickling /Users/patron/autometa/databases/ncbi/level.pkl\n",
      "/Users/patron/autometa/databases/ncbi/level.pkl object unpickled\n",
      "unpickling /Users/patron/autometa/databases/ncbi/occurrence.pkl\n",
      "/Users/patron/autometa/databases/ncbi/occurrence.pkl object unpickled\n",
      "unpickling /Users/patron/autometa/databases/ncbi/sparse.pkl\n",
      "/Users/patron/autometa/databases/ncbi/sparse.pkl object unpickled\n"
     ]
    },
    {
     "data": {
      "text/plain": [
       "1783272"
      ]
     },
     "execution_count": 36,
     "metadata": {},
     "output_type": "execute_result"
    }
   ],
   "source": [
    "# Compute the LCA of two taxids\n",
    "taxutils.lca(1283, 1273)"
   ]
  },
  {
   "cell_type": "code",
   "execution_count": 39,
   "metadata": {},
   "outputs": [
    {
     "name": "stdout",
     "output_type": "stream",
     "text": [
      "The number is : 12.0\n",
      "lca: 1279\n"
     ]
    }
   ],
   "source": [
    "here_is_a_number = 12\n",
    "print(f'The number is : {float(here_is_a_number)}')\n",
    "print(f'lca: {taxutils.lca(1283, 1287)}')"
   ]
  },
  {
   "cell_type": "code",
   "execution_count": 41,
   "metadata": {},
   "outputs": [],
   "source": [
    "taxutils.parse_blastp?"
   ]
  },
  {
   "cell_type": "code",
   "execution_count": 42,
   "metadata": {},
   "outputs": [],
   "source": [
    "taxutils.search_blastdb?"
   ]
  },
  {
   "cell_type": "code",
   "execution_count": 44,
   "metadata": {},
   "outputs": [
    {
     "data": {
      "text/plain": [
       "'/Users/patron/autometa/databases/ncbi/nr.dmnd'"
      ]
     },
     "execution_count": 44,
     "metadata": {},
     "output_type": "execute_result"
    }
   ],
   "source": [
    "taxutils.blastdb_fpath"
   ]
  },
  {
   "cell_type": "code",
   "execution_count": 46,
   "metadata": {},
   "outputs": [
    {
     "ename": "NotImplementedError",
     "evalue": "",
     "output_type": "error",
     "traceback": [
      "\u001b[0;31m---------------------------------------------------------------------------\u001b[0m",
      "\u001b[0;31mNotImplementedError\u001b[0m                       Traceback (most recent call last)",
      "\u001b[0;32m<ipython-input-46-5b09ea156c64>\u001b[0m in \u001b[0;36m<module>\u001b[0;34m\u001b[0m\n\u001b[0;32m----> 1\u001b[0;31m \u001b[0mtaxutils\u001b[0m\u001b[0;34m.\u001b[0m\u001b[0mwrite_taxa\u001b[0m\u001b[0;34m(\u001b[0m\u001b[0;34m)\u001b[0m\u001b[0;34m\u001b[0m\u001b[0;34m\u001b[0m\u001b[0m\n\u001b[0m",
      "\u001b[0;32m~/autometa/autometa/taxonomy.py\u001b[0m in \u001b[0;36mwrite_taxa\u001b[0;34m(self)\u001b[0m\n\u001b[1;32m    585\u001b[0m \u001b[0;34m\u001b[0m\u001b[0m\n\u001b[1;32m    586\u001b[0m     \u001b[0;32mdef\u001b[0m \u001b[0mwrite_taxa\u001b[0m\u001b[0;34m(\u001b[0m\u001b[0mself\u001b[0m\u001b[0;34m)\u001b[0m\u001b[0;34m:\u001b[0m\u001b[0;34m\u001b[0m\u001b[0;34m\u001b[0m\u001b[0m\n\u001b[0;32m--> 587\u001b[0;31m         \u001b[0;32mraise\u001b[0m \u001b[0mNotImplementedError\u001b[0m\u001b[0;34m\u001b[0m\u001b[0;34m\u001b[0m\u001b[0m\n\u001b[0m\u001b[1;32m    588\u001b[0m \u001b[0;34m\u001b[0m\u001b[0m\n\u001b[1;32m    589\u001b[0m     \u001b[0;32mdef\u001b[0m \u001b[0madd_taxa\u001b[0m\u001b[0;34m(\u001b[0m\u001b[0mself\u001b[0m\u001b[0;34m,\u001b[0m \u001b[0mfasta\u001b[0m\u001b[0;34m)\u001b[0m\u001b[0;34m:\u001b[0m\u001b[0;34m\u001b[0m\u001b[0;34m\u001b[0m\u001b[0m\n",
      "\u001b[0;31mNotImplementedError\u001b[0m: "
     ]
    }
   ],
   "source": [
    "taxutils.write_taxa()"
   ]
  },
  {
   "cell_type": "code",
   "execution_count": 47,
   "metadata": {},
   "outputs": [
    {
     "data": {
      "text/plain": [
       "{'NODE_562_length_31692_cov_223.806': 223.806,\n",
       " 'NODE_2043_length_3085_cov_219.547': 219.547,\n",
       " 'NODE_2044_length_3080_cov_221.826': 221.826,\n",
       " 'NODE_2045_length_3078_cov_223.065': 223.065,\n",
       " 'NODE_2046_length_3074_cov_222.186': 222.186,\n",
       " 'NODE_2047_length_3072_cov_222.687': 222.687,\n",
       " 'NODE_2048_length_3072_cov_225.408': 225.408,\n",
       " 'NODE_2049_length_3068_cov_222.83': 222.83,\n",
       " 'NODE_2050_length_3046_cov_224.576': 224.576,\n",
       " 'NODE_2051_length_3046_cov_224.232': 224.232,\n",
       " 'NODE_2052_length_3044_cov_224.729': 224.729,\n",
       " 'NODE_2053_length_3036_cov_225.316': 225.316,\n",
       " 'NODE_2054_length_3034_cov_230.157': 230.157,\n",
       " 'NODE_2055_length_3023_cov_226.367': 226.367,\n",
       " 'NODE_2056_length_3017_cov_217.338': 217.338,\n",
       " 'NODE_2057_length_3015_cov_226.655': 226.655,\n",
       " 'NODE_2058_length_3011_cov_227.199': 227.199,\n",
       " 'NODE_2059_length_3009_cov_227.189': 227.189}"
      ]
     },
     "execution_count": 47,
     "metadata": {},
     "output_type": "execute_result"
    }
   ],
   "source": [
    "autometa.get_coverage()"
   ]
  },
  {
   "cell_type": "code",
   "execution_count": null,
   "metadata": {},
   "outputs": [],
   "source": []
  }
 ],
 "metadata": {
  "kernelspec": {
   "display_name": "Python 3",
   "language": "python",
   "name": "python3"
  },
  "language_info": {
   "codemirror_mode": {
    "name": "ipython",
    "version": 3
   },
   "file_extension": ".py",
   "mimetype": "text/x-python",
   "name": "python",
   "nbconvert_exporter": "python",
   "pygments_lexer": "ipython3",
   "version": "3.7.4"
  }
 },
 "nbformat": 4,
 "nbformat_minor": 2
}
