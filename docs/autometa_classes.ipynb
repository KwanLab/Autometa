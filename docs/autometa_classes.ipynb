{
 "cells": [
  {
   "cell_type": "code",
   "execution_count": 1,
   "metadata": {},
   "outputs": [
    {
     "data": {
      "text/plain": [
       "object"
      ]
     },
     "execution_count": 1,
     "metadata": {},
     "output_type": "execute_result"
    }
   ],
   "source": [
    "object"
   ]
  },
  {
   "cell_type": "markdown",
   "metadata": {},
   "source": [
    "## Autometa 2.0 Design Foundations\n",
    "\n",
    "### Aims: \n",
    "\n",
    "\n",
    "1. To learn Object Oriented Programming Basics\n",
    "    1. Modularity. Allowing our code to be used as a library so it can be used by anyone. Making the code modular will enable re-usability and minimize duplication.\n",
    "    1. Class vs. Instance Attributes. Attributes belonging to a class that are shared amongst all instances vs. attributes that are not shared by objects of the class.\n",
    "    1. Inheritance... or the capability of one class to derive or inherit its properties from another class. This provides an additional layer of code re-usability and is transitive. Meaning if Class B inherits from Class A, then all subclasses of B will automatically inherit from class A.\n",
    "\n",
    "### Towards a [programming paradigm](https://en.wikipedia.org/wiki/Programming_paradigm)\n",
    "\n",
    "We are striving towards writing modular code, i.e. easily used by others in our/others' projects. It is important to note, python is writtenly entirely around objects. In fact, *object* is the root of all classes and built-in functions, like list(), dict(), and set() are objects!\n",
    "\n",
    "### Object-Oriented Programming (OOP)\n",
    "\n",
    "We are planning on moving towards a _more_ Object-Oriented Programming (OOP) approach. So, what is Object-Oriented Programming (OOP)? OOP is a programming paradigm based on the concept of \"objects\". These objects can contain **data** and **code** which correspond to **fields** and **methods**, respectively. Objects can bring an immense amount of flexibility when it comes to organizing our programs. We can group operations together that apply to the object's fields. Similarly, each instance of the object has its *own* state. Meaning we can select and apply operations on different objects depending on their state. I.e. whether or not a metagenome (Here we assume we have a class that has a metagenome field) has been filtered by length or any markers are present, or a user has supplied their own set of markers, whether ORFs have been called and annotated, the list goes on and on... The essential point, is that all operations associated with a class can be organized together which can equally help organize/structure our thinking.\n",
    "\n",
    "### Software architecture using Unified Modeling Language design approach\n",
    "\n",
    "To organize our thinking, generally speaking we can identify class structure from the NSF project outline/requirements by:\n",
    "- Nouns --> potential Classes, objects, fields\n",
    "- Verbs --> potential methods or responsibilities of a class\n",
    "\n",
    "A typical exercise when laying out a system's structure is writing down all of the classes and next to each class' name listing its responsibilities (problems to be solved; short verb phrases) and collaborators (other classes sent messages by this class).\n",
    "\n",
    "\n",
    "\n",
    "## Appendix\n",
    "\n",
    "### Functional Programming\n",
    "\n",
    "- Pure Functions - do not have side effects, that is, they do not change the state of the program. Given the same input, a pure function will always produce the same output.\n",
    "- Immutability - cannot be changed after data is created\n",
    "- Higher Order Functions - functions can accept other functions as parameters and functions can return new functions as output. This allows us to abstract over actions, giving us flexibility in our code's behavior.\n",
    "\n",
    "### References:\n",
    "\n",
    "- [PEP8](https://www.python.org/dev/peps/pep-0008/ \"PEP8 Style Guide\") Style Guide for Python Code\n",
    "- [Understanding Code Reuse and Modularity in Python 3](https://www.geeksforgeeks.org/understanding-code-reuse-modularity-python-3/)\n",
    "- [Class vs. Instance Attributes](https://www.geeksforgeeks.org/class-instance-attributes-python/)\n",
    "- [properties vs. attributes](https://stackoverflow.com/questions/7374748/whats-the-difference-between-a-python-property-and-attribute)\n",
    "- [Python property function](https://www.geeksforgeeks.org/python-property-function/)\n",
    "- [Inheritance in python](https://www.geeksforgeeks.org/inheritance-in-python/)\n",
    "- [Inheritance of protected and private class properties](https://stackoverflow.com/questions/20261517/inheritance-of-private-and-protected-methods-in-python)\n",
    "- [Operator Overloading](https://www.programiz.com/python-programming/operator-overloading)\n",
    "- [Functional Programming](https://stackabuse.com/functional-programming-in-python/#:~:targetText=Python%20is%20not%20a%20functional,for%20the%20task%20at%20hand.)\n",
    "- [Lambda Functions](https://stackabuse.com/lambda-functions-in-python/)\n",
    "- Blog post by Python Creator: [Origins of Python's \"Functional\" Features](http://python-history.blogspot.com/2009/04/origins-of-pythons-functional-features.html)\n",
    "- [python mutable vs. immutable objects](https://towardsdatascience.com/https-towardsdatascience-com-python-basics-mutable-vs-immutable-objects-829a0cb1530a)"
   ]
  },
  {
   "cell_type": "markdown",
   "metadata": {},
   "source": [
    "### Walk-through of OOP\n",
    "#### 1.A Initializing and defining an object class\n",
    "\n",
    "In Python, every class inherits from a built-in base class `object`. The `__init__` function of a class is invoked when we create an object instance of the class."
   ]
  },
  {
   "cell_type": "code",
   "execution_count": 5,
   "metadata": {},
   "outputs": [],
   "source": [
    "class Autometa:\n",
    "    \"\"\"docstring for Autometa Class.\"\"\"\n",
    "    \n",
    "    def __init__(self, metagenome):\n",
    "        \"\"\"Autometa class *constructor* function\n",
    "        Input:\n",
    "        ReturnType: str\n",
    "        Returns:\n",
    "            stuff - here is a description of stuff\n",
    "        Additional Help:\n",
    "        \"\"\"\n",
    "        print('Initialized Autometa Class Instance')\n",
    "        self.metagenome = metagenome"
   ]
  },
  {
   "cell_type": "code",
   "execution_count": 6,
   "metadata": {},
   "outputs": [
    {
     "name": "stdout",
     "output_type": "stream",
     "text": [
      "Initialized Autometa Class Instance\n"
     ]
    }
   ],
   "source": [
    "autometa = Autometa('metagenome')\n",
    "autometa?"
   ]
  },
  {
   "cell_type": "markdown",
   "metadata": {},
   "source": [
    "#### 1.B Class vs Instance Attributes\n",
    "##### Defining a class"
   ]
  },
  {
   "cell_type": "code",
   "execution_count": 39,
   "metadata": {},
   "outputs": [],
   "source": [
    "class Autometa:\n",
    "    \"\"\"docstring for Autometa Class.\"\"\"\n",
    "    # Class attribute\n",
    "    n_datasets = 0\n",
    "    \n",
    "    def __init__(self, metagenome):\n",
    "        \"Autometa class *constructor* function\"\n",
    "        print('Initialized Autometa Class Instance')\n",
    "        self.metagenome = metagenome\n",
    "        Autometa.n_datasets += 1\n",
    "    \n",
    "    def num_datasets(self):\n",
    "        return self.n_datasets"
   ]
  },
  {
   "cell_type": "markdown",
   "metadata": {},
   "source": [
    "##### Instantiating class objects"
   ]
  },
  {
   "cell_type": "code",
   "execution_count": 41,
   "metadata": {},
   "outputs": [
    {
     "name": "stdout",
     "output_type": "stream",
     "text": [
      "Initialized Autometa Class Instance\n",
      "am1 (object) attribute call: 2\n"
     ]
    }
   ],
   "source": [
    "# Instantiate our class    \n",
    "am1 = Autometa('metagenome1')\n",
    "print(f\"am1 (object) attribute call: {am1.num_datasets()}\")\n"
   ]
  },
  {
   "cell_type": "code",
   "execution_count": 42,
   "metadata": {},
   "outputs": [
    {
     "name": "stdout",
     "output_type": "stream",
     "text": [
      "Initialized Autometa Class Instance\n",
      "am2 (object) attribute call: 3\n"
     ]
    },
    {
     "data": {
      "text/plain": [
       "'metagenome2'"
      ]
     },
     "execution_count": 42,
     "metadata": {},
     "output_type": "execute_result"
    }
   ],
   "source": [
    "# Instantiate a second object\n",
    "am2 = Autometa('metagenome2')\n",
    "print(f\"am2 (object) attribute call: {am2.num_datasets()}\")\n",
    "am2.metagenome"
   ]
  },
  {
   "cell_type": "code",
   "execution_count": 43,
   "metadata": {},
   "outputs": [
    {
     "name": "stdout",
     "output_type": "stream",
     "text": [
      "am1 (object) attribute call: 3\n",
      "Autometa (class) attribute call: 3\n"
     ]
    }
   ],
   "source": [
    "# Check the class attribute n_datasets\n",
    "print(f\"am1 (object) attribute call: {am1.num_datasets()}\")\n",
    "print(f\"Autometa (class) attribute call: {Autometa.n_datasets}\")"
   ]
  },
  {
   "cell_type": "markdown",
   "metadata": {},
   "source": [
    "Notice the am1 object, although it was initially called as our first dataset now has an attribute of 2\n",
    "This is due to to the `n_datasets` variable being a class attribute rather than a instance attribute.\n",
    "\n",
    "To define an instance attribute, you must refer to the instance itself. Convention for referencing the instance itself is `self`, however any name may be specified, as long as it is consistent... Just use `self`. "
   ]
  },
  {
   "cell_type": "markdown",
   "metadata": {},
   "source": [
    "#### 1.C Inheritance (subclassing)\n",
    "\n",
    "Single inheritance: When a class inherits from only one parent class\n",
    "Multiple inheritance: When a class inherits from multiple classes (Like C++ / Unlike Java)\n",
    "\n",
    "As was mentioned above, in Python, every class inherits from a built-in basic class called an `object`. The `__init__` function of a class is invoked when we create an object instance of the class. Previously (and specifically for python 3.x) when you define a class like `class Autometa:` the implicit declaration is `class Autometa(object):` where `object` is this root class."
   ]
  },
  {
   "cell_type": "markdown",
   "metadata": {},
   "source": [
    "You will notice the `super` function. This is a special function in python to access the parent methods or attributes.\n",
    "\n",
    "##### Example of single inheritance and ability to create private instance variables"
   ]
  },
  {
   "cell_type": "code",
   "execution_count": 51,
   "metadata": {},
   "outputs": [
    {
     "data": {
      "text/plain": [
       "'Jerry'"
      ]
     },
     "execution_count": 51,
     "metadata": {},
     "output_type": "execute_result"
    }
   ],
   "source": [
    "class A():\n",
    "    def __init__(self, name):\n",
    "        self.name = name\n",
    "    def get_name(self):\n",
    "        # Make sure you have self here\n",
    "        return self.name\n",
    "a = A(name='Jerry')\n",
    "a.get_name()"
   ]
  },
  {
   "cell_type": "code",
   "execution_count": null,
   "metadata": {},
   "outputs": [],
   "source": [
    "class User:\n",
    "    def __init__(self, name='JD'):\n",
    "        self._name = name\n",
    "\n",
    "    @property\n",
    "    def name(self):\n",
    "        def fset():\n",
    "            self.name = self._name\n",
    "        def fdel():\n",
    "            del self.name\n",
    "        def fget():\n",
    "            return self.name\n",
    "    property(name, *args, **kwargs)"
   ]
  },
  {
   "cell_type": "code",
   "execution_count": 64,
   "metadata": {},
   "outputs": [],
   "source": [
    "import uuid\n",
    "\n",
    "class User(object):\n",
    "    \"\"\"Docstring for User Class\"\"\"\n",
    "    n_users = 0\n",
    "    users = []\n",
    "\n",
    "    def __init__(self, name='Jane Doe', \n",
    "                 affiliation='UW-Madison', country='USA'):\n",
    "        self.name = name\n",
    "        self.affiliation = affiliation\n",
    "        self.country = country\n",
    "        self._countries = [self.country]\n",
    "        self.id = uuid.uuid1()\n",
    "        #Class attribute\n",
    "        User.n_users += 1\n",
    "        User.users.append(self.name)\n",
    "\n",
    "class Researcher(User):\n",
    "    \"\"\"Docstring for Researcher Class\"\"\"\n",
    "    def __init__(self, name, affiliation, country, dataset):\n",
    "        super().__init__(name, affiliation, country)\n",
    "        self.dataset = dataset\n",
    "        \n",
    "    def get_dataset(self):\n",
    "        return self.dataset\n",
    "\n",
    "class Admin(User):\n",
    "    \"\"\"Docstring for Admin Class\"\"\"\n",
    "    def __init__(self, name, affiliation, country):\n",
    "        super().__init__(name, affiliation, country)\n",
    "    \n",
    "    def n_users(self):\n",
    "        \"\"\"Returns the number of researchers using autometa\"\"\"\n",
    "        return super().n_users\n",
    "    def get_users(self):\n",
    "        \"\"\"Returns a list of researchers using autometa\"\"\"\n",
    "        return super().users\n"
   ]
  },
  {
   "cell_type": "code",
   "execution_count": 65,
   "metadata": {},
   "outputs": [],
   "source": [
    "# Instantiate some researchers and an Admin\n",
    "jason = Admin(name='jason', affiliation='UW-Madison', country='USA')\n",
    "jane = Researcher(name='jane',affiliation='UW-Madison', country='USA', dataset='cranberries.fasta')\n",
    "jeremy = Researcher(name='jeremy',affiliation='UW-Madison', country='USA', dataset='mendota.fasta')\n",
    "janick = Researcher(name='janick',affiliation='Uppsala', country='Sweden', dataset='alps.fasta')\n",
    "james = Researcher(name='james',affiliation='UW-Milwaukee', country='USA', dataset='monona.fasta')"
   ]
  },
  {
   "cell_type": "markdown",
   "metadata": {},
   "source": [
    "#### Some methods and attributes are now specific to their respective class\n",
    "\n",
    "Use Cases:\n",
    "- Teachers with class (for Tiny Earth Initiative)\n",
    "- Admin at a University\n",
    "- PI managing cluster or server\n",
    "\n",
    "##### Some examples: Different methods and attributes are now available to Admin"
   ]
  },
  {
   "cell_type": "code",
   "execution_count": 66,
   "metadata": {},
   "outputs": [
    {
     "data": {
      "text/plain": [
       "['jason', 'jane', 'jeremy', 'janick', 'james']"
      ]
     },
     "execution_count": 66,
     "metadata": {},
     "output_type": "execute_result"
    }
   ],
   "source": [
    "jason.get_users()"
   ]
  },
  {
   "cell_type": "code",
   "execution_count": 67,
   "metadata": {},
   "outputs": [
    {
     "ename": "AttributeError",
     "evalue": "'Admin' object has no attribute 'get_dataset'",
     "output_type": "error",
     "traceback": [
      "\u001b[0;31m---------------------------------------------------------------------------\u001b[0m",
      "\u001b[0;31mAttributeError\u001b[0m                            Traceback (most recent call last)",
      "\u001b[0;32m<ipython-input-67-75c9c4d45aba>\u001b[0m in \u001b[0;36m<module>\u001b[0;34m\u001b[0m\n\u001b[0;32m----> 1\u001b[0;31m \u001b[0mjason\u001b[0m\u001b[0;34m.\u001b[0m\u001b[0mget_dataset\u001b[0m\u001b[0;34m(\u001b[0m\u001b[0;34m)\u001b[0m\u001b[0;34m\u001b[0m\u001b[0;34m\u001b[0m\u001b[0m\n\u001b[0m",
      "\u001b[0;31mAttributeError\u001b[0m: 'Admin' object has no attribute 'get_dataset'"
     ]
    }
   ],
   "source": [
    "jason.get_dataset()"
   ]
  },
  {
   "cell_type": "code",
   "execution_count": 68,
   "metadata": {},
   "outputs": [
    {
     "data": {
      "text/plain": [
       "5"
      ]
     },
     "execution_count": 68,
     "metadata": {},
     "output_type": "execute_result"
    }
   ],
   "source": [
    "jason.n_users()"
   ]
  },
  {
   "cell_type": "code",
   "execution_count": 69,
   "metadata": {},
   "outputs": [
    {
     "ename": "AttributeError",
     "evalue": "'Researcher' object has no attribute 'get_users'",
     "output_type": "error",
     "traceback": [
      "\u001b[0;31m---------------------------------------------------------------------------\u001b[0m",
      "\u001b[0;31mAttributeError\u001b[0m                            Traceback (most recent call last)",
      "\u001b[0;32m<ipython-input-69-af27f0953a11>\u001b[0m in \u001b[0;36m<module>\u001b[0;34m\u001b[0m\n\u001b[0;32m----> 1\u001b[0;31m \u001b[0mjane\u001b[0m\u001b[0;34m.\u001b[0m\u001b[0mget_users\u001b[0m\u001b[0;34m(\u001b[0m\u001b[0;34m)\u001b[0m\u001b[0;34m\u001b[0m\u001b[0;34m\u001b[0m\u001b[0m\n\u001b[0m",
      "\u001b[0;31mAttributeError\u001b[0m: 'Researcher' object has no attribute 'get_users'"
     ]
    }
   ],
   "source": [
    "jane.get_users()"
   ]
  },
  {
   "cell_type": "code",
   "execution_count": 70,
   "metadata": {},
   "outputs": [
    {
     "data": {
      "text/plain": [
       "'cranberries.fasta'"
      ]
     },
     "execution_count": 70,
     "metadata": {},
     "output_type": "execute_result"
    }
   ],
   "source": [
    "jane.get_dataset()"
   ]
  },
  {
   "cell_type": "code",
   "execution_count": 71,
   "metadata": {},
   "outputs": [
    {
     "data": {
      "text/plain": [
       "'jeremy'"
      ]
     },
     "execution_count": 71,
     "metadata": {},
     "output_type": "execute_result"
    }
   ],
   "source": [
    "jeremy.name"
   ]
  },
  {
   "cell_type": "code",
   "execution_count": 81,
   "metadata": {},
   "outputs": [],
   "source": [
    "# vars(jane)\n",
    "dir(jason)\n",
    "# jason.get_users?"
   ]
  },
  {
   "cell_type": "markdown",
   "metadata": {},
   "source": [
    "These are examples of single inheritance. I.e. Admin and Researcher have only inherited once from the User class.\n",
    "\n",
    "However, python is capable of multi-level inheritance allowing derived classes to be subclassed (or inherited) similarly to their parent class. These classes are defined as above where the `object` in the parentheses is now the class that has been previously defined. This may be helpful when organizing relations of data to one another. I.e. We should not have to re-write multiple methods to access a MAG, Metagenome, or Pangenome's GC%, contigs, markers, etc.\n",
    "\n",
    "Topic for discussion: \n",
    "\n",
    "Whether we should implement a base class *similar* to SeqIO or AntiSMASH, where there is a base class for SeqRecords, ORFs, Features, etc.\n",
    "\n",
    "##### Demonstration of Multilevel inheritance"
   ]
  },
  {
   "cell_type": "code",
   "execution_count": 82,
   "metadata": {},
   "outputs": [],
   "source": [
    "# A demonstration of multi-level inheritance  \n",
    "\n",
    "# Base or Super class. (Note object in parentheses)\n",
    "class Project(object):\n",
    "    # Constructor\n",
    "    def __init__(self, user):\n",
    "        self.user = user\n",
    "\n",
    "    # To get username\n",
    "    def get_user(self):\n",
    "        return self.user\n",
    "  \n",
    "  \n",
    "# Inherited or Sub class (Note Project in parentheses)\n",
    "class Metagenome(Project):\n",
    "    # Constructor\n",
    "    def __init__(self, user, dataset):\n",
    "#         Project.__init__(self, name)\n",
    "        super().__init__(user)\n",
    "        # At this stage, we have now inherited get_name\n",
    "        self.dataset = dataset\n",
    "        self.n50 = 0\n",
    "        self.contigs = dict()\n",
    "    \n",
    "    # To get dataset\n",
    "    def get_dataset(self):\n",
    "        return self.dataset\n",
    "    \n",
    "    def get_n50(self):\n",
    "        return self.n50\n",
    "    \n",
    "    def gc_content(self):\n",
    "        return 'GC%'\n",
    "    \n",
    "    def get_contigs(self):\n",
    "        return self.contigs\n",
    "    \n",
    "# Inherited or Sub class (Note Metagenome in parentheses) \n",
    "class Mag(Metagenome, Parent2): \n",
    "      \n",
    "    # Constructor \n",
    "    def __init__(self, user, dataset): \n",
    "#         Metagenome.__init__(self, name, affiliation)\n",
    "        super().__init__(user, dataset)\n"
   ]
  },
  {
   "cell_type": "code",
   "execution_count": 83,
   "metadata": {},
   "outputs": [
    {
     "data": {
      "text/plain": [
       "[__main__.Mag, __main__.Metagenome, __main__.Project, object]"
      ]
     },
     "execution_count": 83,
     "metadata": {},
     "output_type": "execute_result"
    }
   ],
   "source": [
    "# Checking method resolution order\n",
    "Mag.mro()"
   ]
  },
  {
   "cell_type": "code",
   "execution_count": 84,
   "metadata": {},
   "outputs": [
    {
     "name": "stdout",
     "output_type": "stream",
     "text": [
      "User: Evan\n",
      "Dataset: metagenome.fasta\n",
      "Contigs: {}\n",
      "N50: 0\n",
      "\n"
     ]
    }
   ],
   "source": [
    "# Main Code\n",
    "mag = Mag('Evan', 'metagenome.fasta')\n",
    "\n",
    "# We can now call functions previously defined in other classes from the Mag class. These are inherited methods\n",
    "print(\n",
    "    f\"User: {mag.get_user()}\\n\"\n",
    "    f\"Dataset: {mag.get_dataset()}\\n\"\n",
    "    f\"Contigs: {mag.get_contigs()}\\n\"    \n",
    "    f\"N50: {mag.get_n50()}\\n\"\n",
    ")"
   ]
  },
  {
   "cell_type": "markdown",
   "metadata": {},
   "source": [
    "In the case of the previously outlined inheritance scheme of `Project > Metagenome > Mag`, the usage may not be as clear. \n",
    "\n",
    "For handling our metagenomes, it may make more sense to have a base Contig class, or something of the like.\n",
    "\n",
    "However, an appropriate mult-level inheritance use case could be in Dependency checking and Exception handling\n",
    "\n",
    "Briefly, having a Dependency class where children of the Dependency class are Database and Executable classes and these classes inherit sanity checks (Dependency methods) to ensure they are appropriate for the autometa pipeline. Then Children of the Database class may Markers, NCBI, GTDBK, etc. This way, any base-level checks required from the Dependency class will need to be satisfied when calling any of the children inheriting the Dependency class.\n",
    "\n",
    "When provided *any* new database file or executable that is being implemented, all of the similar checks for access and checking whether the file exists and is formatted correctly will need to be pass."
   ]
  },
  {
   "cell_type": "markdown",
   "metadata": {},
   "source": [
    "#### 1.3 Operator Overloading: converting an object instance to a string"
   ]
  },
  {
   "cell_type": "code",
   "execution_count": 86,
   "metadata": {},
   "outputs": [
    {
     "name": "stdout",
     "output_type": "stream",
     "text": [
      "<__main__.Admin object at 0x10abd2950>\n"
     ]
    }
   ],
   "source": [
    "print(jason)"
   ]
  },
  {
   "cell_type": "code",
   "execution_count": 87,
   "metadata": {},
   "outputs": [
    {
     "name": "stdout",
     "output_type": "stream",
     "text": [
      "Init Autometa Class\n",
      "str operator: metagenome\n",
      "print operator: metagenome\n"
     ]
    }
   ],
   "source": [
    "class Autometa:\n",
    "    def __init__(self, metagenome):\n",
    "        print('Init Autometa Class')\n",
    "        self.metagenome = metagenome\n",
    "\n",
    "    def __str__(self):\n",
    "        return f\"{self.metagenome}\"\n",
    "    \n",
    "# Instantiate our class    \n",
    "autometa = Autometa('metagenome')\n",
    "# Use the print or str operator\n",
    "print(f'str operator: {str(autometa)}')\n",
    "print(f'print operator: {autometa}')"
   ]
  },
  {
   "cell_type": "code",
   "execution_count": 88,
   "metadata": {},
   "outputs": [
    {
     "name": "stdout",
     "output_type": "stream",
     "text": [
      "<class 'object'>\n"
     ]
    }
   ],
   "source": [
    "print(object)"
   ]
  },
  {
   "cell_type": "markdown",
   "metadata": {},
   "source": [
    "# Appendix"
   ]
  },
  {
   "cell_type": "markdown",
   "metadata": {},
   "source": [
    "#### Example of Functional Programming\n",
    "\n",
    "##### Example of a Pure Function:\n",
    "I.e. input not changed, always same expected output with same input"
   ]
  },
  {
   "cell_type": "code",
   "execution_count": null,
   "metadata": {},
   "outputs": [],
   "source": [
    "# Pure Function\n",
    "def multiply_2_pure(numbers):\n",
    "    new_numbers = []\n",
    "    for n in numbers:\n",
    "        new_numbers.append(n * 2)\n",
    "    return new_numbers\n",
    "\n",
    "original_numbers = [1, 3, 5, 10]\n",
    "changed_numbers = multiply_2_pure(original_numbers)\n",
    "print(original_numbers) # [1, 3, 5, 10]\n",
    "print(changed_numbers)"
   ]
  },
  {
   "cell_type": "markdown",
   "metadata": {},
   "source": [
    "##### Basic example of Mutability vs. Immutability"
   ]
  },
  {
   "cell_type": "code",
   "execution_count": null,
   "metadata": {},
   "outputs": [],
   "source": [
    "mutable = ['mixed_data', 12.55, ['mutable','data','structure']]\n",
    "immutable = ('mixed_data', 12.55, ['mutable','data','structure'])\n",
    "\n",
    "# Reading from data types are essentially the same:\n",
    "print(mutable[2])    # ['different','data','structure']\n",
    "print(immutable[2])  # ['different','data','structure']\n",
    "\n",
    "# Changing collection value from 12.55 to 15\n",
    "mutable[1] = 15\n",
    "\n",
    "# This fails with the tuple\n",
    "immutable[1] = 15"
   ]
  },
  {
   "cell_type": "markdown",
   "metadata": {},
   "source": [
    "- We **can** change the **contents** of a mutable object in a Tuple\n",
    "- We **can not** change the **reference** to the mutable object that's stored in memory"
   ]
  },
  {
   "cell_type": "markdown",
   "metadata": {},
   "source": [
    "##### Example of immutability\n",
    "When all of the objects or elements in the immutable datastructure are immutable (doubly immutable if you will), then even when updating the variables that were used in the datastructure prevents the immutable datastructure from being affected."
   ]
  },
  {
   "cell_type": "code",
   "execution_count": null,
   "metadata": {},
   "outputs": [],
   "source": [
    "objs = ('this','is','immutable')\n",
    "truth = True\n",
    "other_variable = 24\n",
    "\n",
    "double_immutable = (truth, objs, other_variable)\n",
    "\n",
    "truth = False\n",
    "other_variable += 10\n",
    "objs += ('more','stuff','here')\n",
    "\n",
    "print(double_immutable)"
   ]
  },
  {
   "cell_type": "markdown",
   "metadata": {},
   "source": [
    "##### Example of mutability\n",
    "When not all of the objects or elements in the immutable datastructure are immutable, some of these objects are now able to be mutated! This can cause some unexpected behavior!"
   ]
  },
  {
   "cell_type": "code",
   "execution_count": null,
   "metadata": {},
   "outputs": [],
   "source": [
    "objs = ['this','is','mutable']\n",
    "truth = True\n",
    "other_variable = 24\n",
    "\n",
    "immutable = (truth, objs, other_variable)\n",
    "\n",
    "truth = False\n",
    "other_variable += 10\n",
    "objs += ('more','stuff','here')\n",
    "\n",
    "print(immutable)\n"
   ]
  },
  {
   "cell_type": "code",
   "execution_count": null,
   "metadata": {},
   "outputs": [],
   "source": [
    "# Example Usage for immutable collection: User Setting Autometa Parameters\n",
    "parameters = ('metagenome.fasta', 'coverage_table', 'length_cutoff')\n",
    "\n",
    "# Example Usage for mutable collection: "
   ]
  },
  {
   "cell_type": "markdown",
   "metadata": {},
   "source": [
    "#### Higher Order Functions:\n",
    "\n",
    "##### Accept a function as input"
   ]
  },
  {
   "cell_type": "code",
   "execution_count": null,
   "metadata": {},
   "outputs": [],
   "source": [
    "def hof_write_repeat(message, n, action):\n",
    "    for i in range(n):\n",
    "        action(message)\n",
    "\n",
    "prog = 'diamond'\n",
    "hof_write_repeat(f'AutometaCheckpoint: {prog}', 2, print)\n",
    "\n",
    "import logging\n",
    "# Log the output as an error instead\n",
    "hof_write_repeat(f'AutometaDebug: {prog}', 2, logging.error)"
   ]
  },
  {
   "cell_type": "markdown",
   "metadata": {},
   "source": [
    "#####  Creating a one-higher order function: Return a function for further processing (These are similar to decorators)"
   ]
  },
  {
   "cell_type": "code",
   "execution_count": null,
   "metadata": {},
   "outputs": [],
   "source": [
    "from Bio import SeqIO\n",
    "\n",
    "def hof_length_filter(cutoff):\n",
    "    # Create a function that loops and adds the increment\n",
    "    def filter_contigs(contigs):\n",
    "        return [record for record in contigs if len(record.seq) >= cutoff]\n",
    "    # We return the function as we do any other value\n",
    "    return filter_contigs\n",
    "\n",
    "cutoff = 3000\n",
    "contigs = [rec for rec in SeqIO.parse('../tests/dev/demo.fasta', 'fasta')]\n",
    "length_filter = hof_length_filter(cutoff)\n",
    "filtered_contigs = length_filter(contigs)\n",
    "print(\n",
    "    f\"Length cutoff:\\t{cutoff}\\n\"\n",
    "    f\"Total contigs:\\t{len(contigs)}\\n\"\n",
    "    f\"Filtered contigs: {len(filtered_contigs)}\"\n",
    ")"
   ]
  },
  {
   "cell_type": "markdown",
   "metadata": {},
   "source": [
    "##### Example of Modularity"
   ]
  },
  {
   "cell_type": "markdown",
   "metadata": {},
   "source": [
    "##### To conclude our overview of thinking about designing/organizing/structuring the Autometa 2 code base"
   ]
  },
  {
   "cell_type": "code",
   "execution_count": 106,
   "metadata": {},
   "outputs": [
    {
     "name": "stdout",
     "output_type": "stream",
     "text": [
      "The Zen of Python, by Tim Peters\n",
      "\n",
      "Beautiful is better than ugly.\n",
      "Explicit is better than implicit.\n",
      "Simple is better than complex.\n",
      "Complex is better than complicated.\n",
      "Flat is better than nested.\n",
      "Sparse is better than dense.\n",
      "Readability counts.\n",
      "Special cases aren't special enough to break the rules.\n",
      "Although practicality beats purity.\n",
      "Errors should never pass silently.\n",
      "Unless explicitly silenced.\n",
      "In the face of ambiguity, refuse the temptation to guess.\n",
      "There should be one-- and preferably only one --obvious way to do it.\n",
      "Although that way may not be obvious at first unless you're Dutch.\n",
      "Now is better than never.\n",
      "Although never is often better than *right* now.\n",
      "If the implementation is hard to explain, it's a bad idea.\n",
      "If the implementation is easy to explain, it may be a good idea.\n",
      "Namespaces are one honking great idea -- let's do more of those!\n"
     ]
    }
   ],
   "source": [
    "import this"
   ]
  },
  {
   "cell_type": "code",
   "execution_count": null,
   "metadata": {},
   "outputs": [],
   "source": []
  }
 ],
 "metadata": {
  "kernelspec": {
   "display_name": "Python 3",
   "language": "python",
   "name": "python3"
  },
  "language_info": {
   "codemirror_mode": {
    "name": "ipython",
    "version": 3
   },
   "file_extension": ".py",
   "mimetype": "text/x-python",
   "name": "python",
   "nbconvert_exporter": "python",
   "pygments_lexer": "ipython3",
   "version": "3.7.5"
  }
 },
 "nbformat": 4,
 "nbformat_minor": 2
}
